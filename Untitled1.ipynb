{
 "cells": [
  {
   "cell_type": "code",
   "execution_count": 1,
   "id": "4fe23313",
   "metadata": {},
   "outputs": [],
   "source": [
    "#import des bibliothèques utiles\n",
    "import psycopg2\n",
    "from sklearn.preprocessing import LabelEncoder\n",
    "import pandas as pd\n",
    "from sklearn.model_selection import train_test_split\n",
    "\n",
    "from sklearn.linear_model import LinearRegression"
   ]
  },
  {
   "cell_type": "code",
   "execution_count": 2,
   "id": "5f92a413",
   "metadata": {},
   "outputs": [],
   "source": [
    "#connexion a la base de données postgres sql\n",
    "conn = psycopg2.connect(\n",
    "    host=\"localhost\",\n",
    "    port=\"5432\",\n",
    "    database=\"db_match\",\n",
    "    user=\"postgres\",\n",
    "    password=\"Chidra10\"\n",
    ")\n",
    "cur = conn.cursor()\n",
    "query = \"SELECT * FROM mytable\""
   ]
  },
  {
   "cell_type": "code",
   "execution_count": 3,
   "id": "423d6932",
   "metadata": {},
   "outputs": [
    {
     "name": "stderr",
     "output_type": "stream",
     "text": [
      "C:\\Users\\HPPAVI~1\\AppData\\Local\\Temp/ipykernel_22744/939575259.py:2: UserWarning: pandas only supports SQLAlchemy connectable (engine/connection) or database string URI or sqlite3 DBAPI2 connection. Other DBAPI2 objects are not tested. Please consider using SQLAlchemy.\n",
      "  df = pd.read_sql(query, conn)\n"
     ]
    },
    {
     "data": {
      "text/html": [
       "<div>\n",
       "<style scoped>\n",
       "    .dataframe tbody tr th:only-of-type {\n",
       "        vertical-align: middle;\n",
       "    }\n",
       "\n",
       "    .dataframe tbody tr th {\n",
       "        vertical-align: top;\n",
       "    }\n",
       "\n",
       "    .dataframe thead th {\n",
       "        text-align: right;\n",
       "    }\n",
       "</style>\n",
       "<table border=\"1\" class=\"dataframe\">\n",
       "  <thead>\n",
       "    <tr style=\"text-align: right;\">\n",
       "      <th></th>\n",
       "      <th>date</th>\n",
       "      <th>home_team</th>\n",
       "      <th>away_team</th>\n",
       "      <th>home_score</th>\n",
       "      <th>away_score</th>\n",
       "      <th>tournament</th>\n",
       "      <th>city</th>\n",
       "      <th>country</th>\n",
       "      <th>neutral</th>\n",
       "    </tr>\n",
       "  </thead>\n",
       "  <tbody>\n",
       "    <tr>\n",
       "      <th>0</th>\n",
       "      <td>30/11/1872</td>\n",
       "      <td>Scotland</td>\n",
       "      <td>England</td>\n",
       "      <td>0</td>\n",
       "      <td>0</td>\n",
       "      <td>Friendly</td>\n",
       "      <td>Glasgow</td>\n",
       "      <td>Scotland</td>\n",
       "      <td>False</td>\n",
       "    </tr>\n",
       "    <tr>\n",
       "      <th>1</th>\n",
       "      <td>08/03/1873</td>\n",
       "      <td>England</td>\n",
       "      <td>Scotland</td>\n",
       "      <td>4</td>\n",
       "      <td>2</td>\n",
       "      <td>Friendly</td>\n",
       "      <td>London</td>\n",
       "      <td>England</td>\n",
       "      <td>False</td>\n",
       "    </tr>\n",
       "    <tr>\n",
       "      <th>2</th>\n",
       "      <td>07/03/1874</td>\n",
       "      <td>Scotland</td>\n",
       "      <td>England</td>\n",
       "      <td>2</td>\n",
       "      <td>1</td>\n",
       "      <td>Friendly</td>\n",
       "      <td>Glasgow</td>\n",
       "      <td>Scotland</td>\n",
       "      <td>False</td>\n",
       "    </tr>\n",
       "    <tr>\n",
       "      <th>3</th>\n",
       "      <td>06/03/1875</td>\n",
       "      <td>England</td>\n",
       "      <td>Scotland</td>\n",
       "      <td>2</td>\n",
       "      <td>2</td>\n",
       "      <td>Friendly</td>\n",
       "      <td>London</td>\n",
       "      <td>England</td>\n",
       "      <td>False</td>\n",
       "    </tr>\n",
       "    <tr>\n",
       "      <th>4</th>\n",
       "      <td>04/03/1876</td>\n",
       "      <td>Scotland</td>\n",
       "      <td>England</td>\n",
       "      <td>3</td>\n",
       "      <td>0</td>\n",
       "      <td>Friendly</td>\n",
       "      <td>Glasgow</td>\n",
       "      <td>Scotland</td>\n",
       "      <td>False</td>\n",
       "    </tr>\n",
       "    <tr>\n",
       "      <th>...</th>\n",
       "      <td>...</td>\n",
       "      <td>...</td>\n",
       "      <td>...</td>\n",
       "      <td>...</td>\n",
       "      <td>...</td>\n",
       "      <td>...</td>\n",
       "      <td>...</td>\n",
       "      <td>...</td>\n",
       "      <td>...</td>\n",
       "    </tr>\n",
       "    <tr>\n",
       "      <th>40834</th>\n",
       "      <td>18/07/2019</td>\n",
       "      <td>American Samoa</td>\n",
       "      <td>Tahiti</td>\n",
       "      <td>8</td>\n",
       "      <td>1</td>\n",
       "      <td>Pacific Games</td>\n",
       "      <td>Apia</td>\n",
       "      <td>Samoa</td>\n",
       "      <td>True</td>\n",
       "    </tr>\n",
       "    <tr>\n",
       "      <th>40835</th>\n",
       "      <td>18/07/2019</td>\n",
       "      <td>Fiji</td>\n",
       "      <td>Solomon Islands</td>\n",
       "      <td>4</td>\n",
       "      <td>4</td>\n",
       "      <td>Pacific Games</td>\n",
       "      <td>Apia</td>\n",
       "      <td>Samoa</td>\n",
       "      <td>True</td>\n",
       "    </tr>\n",
       "    <tr>\n",
       "      <th>40836</th>\n",
       "      <td>19/07/2019</td>\n",
       "      <td>Senegal</td>\n",
       "      <td>Algeria</td>\n",
       "      <td>0</td>\n",
       "      <td>1</td>\n",
       "      <td>African Cup of Nations</td>\n",
       "      <td>Cairo</td>\n",
       "      <td>Egypt</td>\n",
       "      <td>True</td>\n",
       "    </tr>\n",
       "    <tr>\n",
       "      <th>40837</th>\n",
       "      <td>19/07/2019</td>\n",
       "      <td>Tajikistan</td>\n",
       "      <td>North Korea</td>\n",
       "      <td>0</td>\n",
       "      <td>1</td>\n",
       "      <td>Intercontinental Cup</td>\n",
       "      <td>Ahmedabad</td>\n",
       "      <td>India</td>\n",
       "      <td>True</td>\n",
       "    </tr>\n",
       "    <tr>\n",
       "      <th>40838</th>\n",
       "      <td>20/07/2019</td>\n",
       "      <td>Papua New Guinea</td>\n",
       "      <td>Fiji</td>\n",
       "      <td>1</td>\n",
       "      <td>1</td>\n",
       "      <td>Pacific Games</td>\n",
       "      <td>Apia</td>\n",
       "      <td>Samoa</td>\n",
       "      <td>True</td>\n",
       "    </tr>\n",
       "  </tbody>\n",
       "</table>\n",
       "<p>40839 rows × 9 columns</p>\n",
       "</div>"
      ],
      "text/plain": [
       "             date         home_team        away_team  home_score  away_score  \\\n",
       "0      30/11/1872          Scotland          England           0           0   \n",
       "1      08/03/1873           England         Scotland           4           2   \n",
       "2      07/03/1874          Scotland          England           2           1   \n",
       "3      06/03/1875           England         Scotland           2           2   \n",
       "4      04/03/1876          Scotland          England           3           0   \n",
       "...           ...               ...              ...         ...         ...   \n",
       "40834  18/07/2019    American Samoa           Tahiti           8           1   \n",
       "40835  18/07/2019              Fiji  Solomon Islands           4           4   \n",
       "40836  19/07/2019           Senegal          Algeria           0           1   \n",
       "40837  19/07/2019        Tajikistan      North Korea           0           1   \n",
       "40838  20/07/2019  Papua New Guinea             Fiji           1           1   \n",
       "\n",
       "                   tournament       city   country neutral  \n",
       "0                    Friendly    Glasgow  Scotland   False  \n",
       "1                    Friendly     London   England   False  \n",
       "2                    Friendly    Glasgow  Scotland   False  \n",
       "3                    Friendly     London   England   False  \n",
       "4                    Friendly    Glasgow  Scotland   False  \n",
       "...                       ...        ...       ...     ...  \n",
       "40834           Pacific Games       Apia     Samoa    True  \n",
       "40835           Pacific Games       Apia     Samoa    True  \n",
       "40836  African Cup of Nations      Cairo     Egypt    True  \n",
       "40837    Intercontinental Cup  Ahmedabad     India    True  \n",
       "40838           Pacific Games       Apia     Samoa    True  \n",
       "\n",
       "[40839 rows x 9 columns]"
      ]
     },
     "execution_count": 3,
     "metadata": {},
     "output_type": "execute_result"
    }
   ],
   "source": [
    "#lecture des données depuis la base de données postgresql\n",
    "df = pd.read_sql(query, conn)\n",
    "df"
   ]
  },
  {
   "cell_type": "code",
   "execution_count": 4,
   "id": "6ababa42",
   "metadata": {},
   "outputs": [],
   "source": [
    "df = df.drop(['date','city','country','neutral'],axis =1)"
   ]
  },
  {
   "cell_type": "code",
   "execution_count": 5,
   "id": "75766d3b",
   "metadata": {},
   "outputs": [
    {
     "name": "stdout",
     "output_type": "stream",
     "text": [
      "home_team     0\n",
      "away_team     0\n",
      "home_score    0\n",
      "away_score    0\n",
      "tournament    0\n",
      "dtype: int64\n"
     ]
    }
   ],
   "source": [
    "print(df.isnull().sum())\n"
   ]
  },
  {
   "cell_type": "code",
   "execution_count": 16,
   "id": "be450d63",
   "metadata": {},
   "outputs": [
    {
     "name": "stdout",
     "output_type": "stream",
     "text": [
      "home_team     False\n",
      "away_team     False\n",
      "home_score    False\n",
      "away_score    False\n",
      "tournament    False\n",
      "dtype: bool\n"
     ]
    }
   ],
   "source": [
    "print(df.isnull().any())\n"
   ]
  },
  {
   "cell_type": "code",
   "execution_count": 17,
   "id": "8b5adc41",
   "metadata": {},
   "outputs": [],
   "source": [
    "#repartition des données 20% test et 80% entraineement\n",
    "train_df, test_df = train_test_split(df, test_size=0.2, random_state=42)\n",
    "\n"
   ]
  },
  {
   "cell_type": "code",
   "execution_count": null,
   "id": "9632b27e",
   "metadata": {},
   "outputs": [],
   "source": [
    "#split des données d'entrainement\n",
    "X_trainh = train_df.drop(['home_score'],axis = 1)\n",
    "X_trainw = train_df.drop(['away_score'],axis = 1)\n",
    "Y_train1 = train_df['home_score']\n",
    "Y_train2 = train_df['away_score']\n",
    "Y_train2\n",
    "# Test set\n",
    "X_testh = test_df.drop(['home_score'], axis=1)\n",
    "X_testw = test_df.drop([ 'away_score'], axis=1)\n",
    "\n",
    "y_test1 = test_df['home_score']\n",
    "y_test2 = test_df['away_score']"
   ]
  },
  {
   "cell_type": "code",
   "execution_count": null,
   "id": "ab1116b3",
   "metadata": {},
   "outputs": [],
   "source": [
    "#pretraitement des colonnes catégorielles\n",
    "X_train_encoded = pd.get_dummies(X_train,columns=['home_team','away_team','tournament',])\n",
    "X_test_encoded = pd.get_dummies(X_test,columns=['home_team','away_team','tournament'])\n"
   ]
  },
  {
   "cell_type": "code",
   "execution_count": null,
   "id": "9c950477",
   "metadata": {},
   "outputs": [],
   "source": [
    "X_train_encoded, X_test_encoded = X_train_encoded.align(X_test_encoded, join='outer', axis=1)\n"
   ]
  },
  {
   "cell_type": "code",
   "execution_count": null,
   "id": "47cb1e7d",
   "metadata": {},
   "outputs": [],
   "source": [
    "\n",
    "print(X_train_encoded.isnull().sum())\n",
    "\n",
    "\n"
   ]
  },
  {
   "cell_type": "code",
   "execution_count": null,
   "id": "c15740af",
   "metadata": {},
   "outputs": [],
   "source": [
    "import numpy as np\n",
    "\n",
    "print(np.isinf(X_train_encoded).sum())\n"
   ]
  },
  {
   "cell_type": "code",
   "execution_count": null,
   "id": "cd9cf57c",
   "metadata": {},
   "outputs": [],
   "source": [
    "model_home = LinearRegression()\n",
    "model_home.fit(X_train_encoded,Y_train1)"
   ]
  },
  {
   "cell_type": "code",
   "execution_count": null,
   "id": "a80f7d72",
   "metadata": {},
   "outputs": [],
   "source": [
    "model_home.predict(X_test_encoded)"
   ]
  },
  {
   "cell_type": "code",
   "execution_count": null,
   "id": "8f5d95cb",
   "metadata": {},
   "outputs": [],
   "source": []
  },
  {
   "cell_type": "code",
   "execution_count": null,
   "id": "650d6401",
   "metadata": {},
   "outputs": [],
   "source": []
  }
 ],
 "metadata": {
  "kernelspec": {
   "display_name": "Python 3 (ipykernel)",
   "language": "python",
   "name": "python3"
  },
  "language_info": {
   "codemirror_mode": {
    "name": "ipython",
    "version": 3
   },
   "file_extension": ".py",
   "mimetype": "text/x-python",
   "name": "python",
   "nbconvert_exporter": "python",
   "pygments_lexer": "ipython3",
   "version": "3.9.7"
  }
 },
 "nbformat": 4,
 "nbformat_minor": 5
}
